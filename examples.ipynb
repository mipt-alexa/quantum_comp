{
 "cells": [
  {
   "cell_type": "code",
   "execution_count": 53,
   "metadata": {
    "collapsed": true
   },
   "outputs": [],
   "source": [
    "from classes import MPS, MPO\n",
    "from jax.random import PRNGKey, normal\n",
    "from helper_functions import get_norm_from_MPS"
   ]
  },
  {
   "cell_type": "markdown",
   "source": [
    "Let's create a Matrix Product State with randomly distributed entries:"
   ],
   "metadata": {
    "collapsed": false
   }
  },
  {
   "cell_type": "code",
   "execution_count": 9,
   "outputs": [],
   "source": [
    "key = PRNGKey(13)\n",
    "\n",
    "A = normal(key, shape=(1, 5, 3))\n",
    "B = normal(key, shape=(3, 6, 2))\n",
    "C = normal(key, shape=(2, 5, 1))"
   ],
   "metadata": {
    "collapsed": false
   }
  },
  {
   "cell_type": "code",
   "execution_count": 34,
   "outputs": [],
   "source": [
    "mps = MPS([A, B, C])"
   ],
   "metadata": {
    "collapsed": false
   }
  },
  {
   "cell_type": "code",
   "execution_count": 20,
   "outputs": [
    {
     "name": "stdout",
     "output_type": "stream",
     "text": [
      "MPS( component 0 of size (1, 5, 3)\n",
      "component 1 of size (3, 6, 2)\n",
      "component 2 of size (2, 5, 1)\n",
      ")\n"
     ]
    }
   ],
   "source": [
    "print(repr(mps))"
   ],
   "metadata": {
    "collapsed": false
   }
  },
  {
   "cell_type": "markdown",
   "source": [
    "MPS class has method dot implementing scalar product. As expected, multiplying object by itself produces its (Frobenius) norm."
   ],
   "metadata": {
    "collapsed": false
   }
  },
  {
   "cell_type": "code",
   "execution_count": 24,
   "outputs": [
    {
     "data": {
      "text/plain": "29.219938"
     },
     "execution_count": 24,
     "metadata": {},
     "output_type": "execute_result"
    }
   ],
   "source": [
    "get_norm_from_MPS(mps)"
   ],
   "metadata": {
    "collapsed": false
   }
  },
  {
   "cell_type": "code",
   "execution_count": 26,
   "outputs": [
    {
     "data": {
      "text/plain": "DeviceArray(29.219929, dtype=float32, weak_type=True)"
     },
     "execution_count": 26,
     "metadata": {},
     "output_type": "execute_result"
    }
   ],
   "source": [
    "jnp.sqrt(mps.dot(mps))"
   ],
   "metadata": {
    "collapsed": false
   }
  },
  {
   "cell_type": "markdown",
   "source": [
    "Also, MPS can be adduced to canonical form, either left or right"
   ],
   "metadata": {
    "collapsed": false
   }
  },
  {
   "cell_type": "code",
   "execution_count": 30,
   "outputs": [
    {
     "name": "stdout",
     "output_type": "stream",
     "text": [
      "15.94236\n",
      "31.23802\n",
      "10.811666\n"
     ]
    }
   ],
   "source": [
    "for x in mps.components:\n",
    "    print(jnp.tensordot(x, x, 3))"
   ],
   "metadata": {
    "collapsed": false
   }
  },
  {
   "cell_type": "code",
   "execution_count": 35,
   "outputs": [],
   "source": [
    "mps.left_canonical()"
   ],
   "metadata": {
    "collapsed": false
   }
  },
  {
   "cell_type": "code",
   "execution_count": 32,
   "outputs": [
    {
     "name": "stdout",
     "output_type": "stream",
     "text": [
      "3.0000002\n",
      "2.0\n",
      "853.8036\n"
     ]
    }
   ],
   "source": [
    "for x in mps.components:\n",
    "    print(jnp.tensordot(x, x, 3))"
   ],
   "metadata": {
    "collapsed": false
   }
  },
  {
   "cell_type": "markdown",
   "source": [
    "Canonical form enables to implement SVD-truncation for a given truncation value"
   ],
   "metadata": {
    "collapsed": false
   }
  },
  {
   "cell_type": "code",
   "execution_count": 40,
   "outputs": [
    {
     "data": {
      "text/plain": "26.905174"
     },
     "execution_count": 40,
     "metadata": {},
     "output_type": "execute_result"
    }
   ],
   "source": [
    "mps.left_svd_trunc(3)\n",
    "get_norm_from_MPS(mps)"
   ],
   "metadata": {
    "collapsed": false
   }
  },
  {
   "cell_type": "markdown",
   "source": [
    "Another class is Matrix Product Operator which allows to introduce the evolution of MPS"
   ],
   "metadata": {
    "collapsed": false
   }
  },
  {
   "cell_type": "code",
   "execution_count": 45,
   "outputs": [],
   "source": [
    "D = normal(key, shape=(1, 5, 3, 5))\n",
    "E = normal(key, shape=(3, 6, 3, 6))\n",
    "F = normal(key, shape=(3, 5, 1, 5))\n",
    "\n",
    "mpo = MPO([D, E, F])"
   ],
   "metadata": {
    "collapsed": false
   }
  },
  {
   "cell_type": "code",
   "execution_count": 50,
   "outputs": [],
   "source": [
    "mpo.process(mps)"
   ],
   "metadata": {
    "collapsed": false
   }
  }
 ],
 "metadata": {
  "kernelspec": {
   "display_name": "Python 3",
   "language": "python",
   "name": "python3"
  },
  "language_info": {
   "codemirror_mode": {
    "name": "ipython",
    "version": 2
   },
   "file_extension": ".py",
   "mimetype": "text/x-python",
   "name": "python",
   "nbconvert_exporter": "python",
   "pygments_lexer": "ipython2",
   "version": "2.7.6"
  }
 },
 "nbformat": 4,
 "nbformat_minor": 0
}
