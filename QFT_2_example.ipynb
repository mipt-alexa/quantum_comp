{
 "cells": [
  {
   "cell_type": "code",
   "execution_count": 2,
   "metadata": {
    "collapsed": true
   },
   "outputs": [],
   "source": [
    "import numpy as np\n",
    "import jax.numpy as jnp\n",
    "from classes import MPO"
   ]
  },
  {
   "cell_type": "code",
   "execution_count": 3,
   "outputs": [],
   "source": [
    "def Phase_ord_3(theta: float, bond_1_dim: int, out_dim: int):\n",
    "    \"\"\"\n",
    "    This function returns order-3 Phase gate as 4-dimentional tensor\n",
    "    with index 2 being trivial, for ex. shaped (2, 2, 1, 2)\n",
    "    Args:\n",
    "        theta: the phase\n",
    "        bond_1_dim: first bond dimension (index 0)\n",
    "        out_dim: outer dimension (indices 1 and 3)\n",
    "    \"\"\"\n",
    "    t = np.full((bond_1_dim, out_dim, 1, out_dim), 0, dtype=complex)\n",
    "\n",
    "    for out_ind in range(out_dim):\n",
    "        for bond_ind_1 in range(bond_1_dim):\n",
    "            t[bond_ind_1, out_ind, 0, out_ind] = np.exp(complex(0, theta * bond_ind_1 * out_ind))\n",
    "    return jnp.array(t, dtype=jnp.complex64)"
   ],
   "metadata": {
    "collapsed": false
   }
  },
  {
   "cell_type": "code",
   "execution_count": 4,
   "outputs": [
    {
     "name": "stderr",
     "output_type": "stream",
     "text": [
      "WARNING:absl:No GPU/TPU found, falling back to CPU. (Set TF_CPP_MIN_LOG_LEVEL=0 and rerun for more info.)\n"
     ]
    }
   ],
   "source": [
    "id_tensor = np.zeros((2,) * 3)\n",
    "id_tensor[tuple([np.arange(2)] * 3)] = 1\n",
    "id_tensor = jnp.array(id_tensor, dtype=jnp.complex64)\n",
    "\n",
    "H = 1 / jnp.sqrt(2) * jnp.array([[1, 1], [1, -1]], dtype=jnp.complex64)"
   ],
   "metadata": {
    "collapsed": false
   }
  },
  {
   "cell_type": "markdown",
   "source": [
    "2 qubit QFT circuit:"
   ],
   "metadata": {
    "collapsed": false
   }
  },
  {
   "cell_type": "code",
   "execution_count": 37,
   "outputs": [
    {
     "data": {
      "text/plain": "DeviceArray([[ 0.5+0.j ,  0.5+0.j ,  0.5+0.j , -0.5+0.j ],\n             [ 0.5+0.j ,  0.5+0.j ,  0. +0.5j,  0. -0.5j],\n             [ 0.5+0.j ,  0.5+0.j ,  0.5+0.j , -0.5+0.j ],\n             [-0.5+0.j , -0.5+0.j ,  0. -0.5j,  0. +0.5j]],            dtype=complex64)"
     },
     "execution_count": 37,
     "metadata": {},
     "output_type": "execute_result"
    }
   ],
   "source": [
    "components = []\n",
    "components.append(jnp.reshape(jnp.tensordot(H, id_tensor, 1), (1, 2, 2, 2)))\n",
    "components.append(jnp.tensordot(Phase_ord_3(np.pi / 2, 2, 2), H, 1))\n",
    "\n",
    "qft_2 = MPO(components)\n",
    "qft_2 = jnp.tensordot(qft_2.components[0], qft_2.components[1], [[2], [0]])\n",
    "qft_2 = jnp.reshape(qft_2, (4, 4))\n",
    "round(qft_2, 3)"
   ],
   "metadata": {
    "collapsed": false
   }
  },
  {
   "cell_type": "markdown",
   "source": [
    "Матричное представление:"
   ],
   "metadata": {
    "collapsed": false
   }
  },
  {
   "cell_type": "code",
   "execution_count": 39,
   "outputs": [
    {
     "data": {
      "text/plain": "DeviceArray([[ 0.5+0.j ,  0.5+0.j ,  0.5+0.j ,  0.5+0.j ],\n             [ 0.5+0.j ,  0. +0.5j, -0.5+0.j ,  0. -0.5j],\n             [ 0.5+0.j , -0.5+0.j ,  0.5+0.j , -0.5+0.j ],\n             [ 0.5+0.j ,  0. -0.5j, -0.5+0.j ,  0. +0.5j]],            dtype=complex128)"
     },
     "execution_count": 39,
     "metadata": {},
     "output_type": "execute_result"
    }
   ],
   "source": [
    "valid_qft_2 = np.empty((4,4), dtype=complex)\n",
    "for i in range(4):\n",
    "    for j in range(4):\n",
    "        valid_qft_2[i][j] = 0.5*np.exp(complex(0, 2*np.pi/4*i*j))\n",
    "round(jnp.array(valid_qft_2), 3)"
   ],
   "metadata": {
    "collapsed": false
   }
  },
  {
   "cell_type": "code",
   "execution_count": null,
   "outputs": [],
   "source": [],
   "metadata": {
    "collapsed": false
   }
  }
 ],
 "metadata": {
  "kernelspec": {
   "display_name": "Python 3",
   "language": "python",
   "name": "python3"
  },
  "language_info": {
   "codemirror_mode": {
    "name": "ipython",
    "version": 2
   },
   "file_extension": ".py",
   "mimetype": "text/x-python",
   "name": "python",
   "nbconvert_exporter": "python",
   "pygments_lexer": "ipython2",
   "version": "2.7.6"
  }
 },
 "nbformat": 4,
 "nbformat_minor": 0
}
