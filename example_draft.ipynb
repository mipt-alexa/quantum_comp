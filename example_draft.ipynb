{
 "cells": [
  {
   "cell_type": "code",
   "execution_count": 1,
   "metadata": {
    "collapsed": true
   },
   "outputs": [],
   "source": [
    "import jax\n",
    "from helper_functions import get_norm_from_MPS\n",
    "from TT_decomposition import *"
   ]
  },
  {
   "cell_type": "markdown",
   "source": [
    "Матрица 10 х 10 ранга 3"
   ],
   "metadata": {
    "collapsed": false
   }
  },
  {
   "cell_type": "code",
   "execution_count": 2,
   "outputs": [
    {
     "name": "stderr",
     "output_type": "stream",
     "text": [
      "WARNING:absl:No GPU/TPU found, falling back to CPU. (Set TF_CPP_MIN_LOG_LEVEL=0 and rerun for more info.)\n"
     ]
    }
   ],
   "source": [
    "key = jax.random.PRNGKey(13)\n",
    "A = jax.random.normal(key, shape=(10, 3))\n",
    "B = jax.random.normal(key, shape=(3, 10))\n",
    "\n",
    "matrix = jnp.tensordot(A, B, 1)"
   ],
   "metadata": {
    "collapsed": false
   }
  },
  {
   "cell_type": "code",
   "execution_count": 7,
   "outputs": [
    {
     "name": "stdout",
     "output_type": "stream",
     "text": [
      "21.786922 21.786919\n",
      "1.1920929e-07\n"
     ]
    }
   ],
   "source": [
    "mps = TT_decomposition(matrix, [3])\n",
    "\n",
    "norm_1 = jnp.sqrt(jnp.tensordot(matrix, matrix, 2))\n",
    "norm_2 = get_norm_from_MPS(mps)\n",
    "\n",
    "print(norm_1, norm_2)\n",
    "print(norm_1 / norm_2 - 1.)"
   ],
   "metadata": {
    "collapsed": false
   }
  }
 ],
 "metadata": {
  "kernelspec": {
   "display_name": "Python 3",
   "language": "python",
   "name": "python3"
  },
  "language_info": {
   "codemirror_mode": {
    "name": "ipython",
    "version": 2
   },
   "file_extension": ".py",
   "mimetype": "text/x-python",
   "name": "python",
   "nbconvert_exporter": "python",
   "pygments_lexer": "ipython2",
   "version": "2.7.6"
  }
 },
 "nbformat": 4,
 "nbformat_minor": 0
}
